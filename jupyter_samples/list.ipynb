{
 "cells": [
  {
   "cell_type": "code",
   "execution_count": 20,
   "metadata": {},
   "outputs": [
    {
     "name": "stdout",
     "output_type": "stream",
     "text": [
      "<class 'list'>\n"
     ]
    }
   ],
   "source": [
    "ll = [50, 230, 2, 980, 34, \"strings\", [1,2.4], (1,2)]\n",
    "print(type(ll))"
   ]
  },
  {
   "cell_type": "code",
   "execution_count": 21,
   "metadata": {},
   "outputs": [
    {
     "name": "stdout",
     "output_type": "stream",
     "text": [
      "[50, 230, 2]\n",
      "(1, 2)\n",
      "[50, 230, 2, 980, 34, 'strings', [1, 2.4], (1, 2)]\n",
      "[(1, 2), [1, 2.4], 'strings', 34, 980, 2, 230, 50]\n"
     ]
    }
   ],
   "source": [
    "print(ll[0:3])\n",
    "print(ll[-1])\n",
    "\n",
    "print(ll[:])\n",
    "print(ll[::-1])\n"
   ]
  },
  {
   "cell_type": "code",
   "execution_count": 22,
   "metadata": {},
   "outputs": [
    {
     "name": "stdout",
     "output_type": "stream",
     "text": [
      "[50, 'new_value', 2, 980, 34, 'strings', [1, 2.4], (1, 2)]\n"
     ]
    }
   ],
   "source": [
    "ll[1] = \"new_value\"\n",
    "print(ll)"
   ]
  },
  {
   "cell_type": "code",
   "execution_count": 41,
   "metadata": {},
   "outputs": [
    {
     "name": "stdout",
     "output_type": "stream",
     "text": [
      "['one', 'two', 'three', 34, 'strings', [1, 2.4], (1, 2), 700, 700, 1, 2, 3, 4, 5, 6, 4, 5, 6]\n"
     ]
    }
   ],
   "source": [
    "ll += [4,5,6]\n",
    "print(ll)"
   ]
  },
  {
   "cell_type": "code",
   "execution_count": null,
   "metadata": {},
   "outputs": [],
   "source": []
  },
  {
   "cell_type": "code",
   "execution_count": null,
   "metadata": {},
   "outputs": [],
   "source": []
  },
  {
   "cell_type": "code",
   "execution_count": 24,
   "metadata": {},
   "outputs": [],
   "source": [
    "l1 = [3, 6, 1]\n",
    "l2 = [4, 2, 9]"
   ]
  },
  {
   "cell_type": "code",
   "execution_count": 25,
   "metadata": {},
   "outputs": [
    {
     "name": "stdout",
     "output_type": "stream",
     "text": [
      "[3, 6, 1, 4, 2, 9]\n"
     ]
    }
   ],
   "source": [
    "l3 = l1 + l2\n",
    "print(l3)"
   ]
  },
  {
   "cell_type": "code",
   "execution_count": 26,
   "metadata": {},
   "outputs": [
    {
     "name": "stdout",
     "output_type": "stream",
     "text": [
      "[50, 'one', 'two', 'three', 34, 'strings', [1, 2.4], (1, 2), 700]\n"
     ]
    }
   ],
   "source": [
    "ll[1:4] = [\"one\", \"two\", \"three\"]\n",
    "print(ll)"
   ]
  },
  {
   "cell_type": "code",
   "execution_count": 27,
   "metadata": {},
   "outputs": [
    {
     "name": "stdout",
     "output_type": "stream",
     "text": [
      "['one', 'two', 'three', 34, 'strings', [1, 2.4], (1, 2), 700]\n"
     ]
    }
   ],
   "source": [
    "del ll[0]\n",
    "print(ll)"
   ]
  },
  {
   "cell_type": "markdown",
   "metadata": {},
   "source": [
    "list repeatation"
   ]
  },
  {
   "cell_type": "code",
   "execution_count": 28,
   "metadata": {},
   "outputs": [
    {
     "name": "stdout",
     "output_type": "stream",
     "text": [
      "[1, 2, 3, 1, 2, 3, 1, 2, 3]\n"
     ]
    }
   ],
   "source": [
    "a = [1,2,3]\n",
    "repeated_a = a * 3\n",
    "print(repeated_a)"
   ]
  },
  {
   "cell_type": "markdown",
   "metadata": {},
   "source": [
    "membership check"
   ]
  },
  {
   "cell_type": "code",
   "execution_count": 29,
   "metadata": {},
   "outputs": [
    {
     "name": "stdout",
     "output_type": "stream",
     "text": [
      "False\n"
     ]
    }
   ],
   "source": [
    "print(5 in a)"
   ]
  },
  {
   "cell_type": "markdown",
   "metadata": {},
   "source": [
    "iteration"
   ]
  },
  {
   "cell_type": "code",
   "execution_count": 42,
   "metadata": {},
   "outputs": [
    {
     "name": "stdout",
     "output_type": "stream",
     "text": [
      "1\n",
      "2\n",
      "3\n"
     ]
    }
   ],
   "source": [
    "for elem in a:\n",
    "    print(elem)"
   ]
  },
  {
   "cell_type": "code",
   "execution_count": 43,
   "metadata": {},
   "outputs": [
    {
     "name": "stdout",
     "output_type": "stream",
     "text": [
      "Even numbers:  [2, 4, 6, 8, 10]\n",
      "Odd numbers:  [1, 3, 5, 7, 9]\n"
     ]
    }
   ],
   "source": [
    "\n",
    "# comprehension\n",
    "numbers = list(range(1, 11))\n",
    "even_numbers = [element for element in numbers if element%2 == 0]\n",
    "odd_numbers = [element for element in numbers if element%2 != 0]\n",
    "print(\"Even numbers: \", even_numbers)\n",
    "print(\"Odd numbers: \", odd_numbers)"
   ]
  },
  {
   "cell_type": "code",
   "execution_count": 32,
   "metadata": {},
   "outputs": [
    {
     "name": "stdout",
     "output_type": "stream",
     "text": [
      "Even numbers:  [2, 4, 6, 8, 10]\n",
      "Odd numbers:  [1, 3, 5, 7, 9]\n"
     ]
    }
   ],
   "source": []
  },
  {
   "cell_type": "markdown",
   "metadata": {},
   "source": [
    "check length"
   ]
  },
  {
   "cell_type": "code",
   "execution_count": 44,
   "metadata": {},
   "outputs": [
    {
     "name": "stdout",
     "output_type": "stream",
     "text": [
      "Length:  10\n"
     ]
    }
   ],
   "source": [
    "print(\"Length: \", len(numbers))"
   ]
  },
  {
   "cell_type": "markdown",
   "metadata": {},
   "source": [
    "get the max element"
   ]
  },
  {
   "cell_type": "code",
   "execution_count": 34,
   "metadata": {},
   "outputs": [
    {
     "name": "stdout",
     "output_type": "stream",
     "text": [
      "Max element:  10\n"
     ]
    }
   ],
   "source": [
    "print(\"Max element: \", max(numbers))"
   ]
  },
  {
   "cell_type": "markdown",
   "metadata": {},
   "source": [
    "min, sum, sorted"
   ]
  },
  {
   "cell_type": "code",
   "execution_count": 50,
   "metadata": {},
   "outputs": [
    {
     "name": "stdout",
     "output_type": "stream",
     "text": [
      "[1, 3, 7, 10, 12, 76, 100]\n",
      "6\n",
      "['Naga', 'Pinaki', 'Nilanjan', 'Swarvanu']\n"
     ]
    }
   ],
   "source": [
    "unsorted = [10, 12, 7, 76, 3, 1, 100]\n",
    "unsorted.sort()\n",
    "print(unsorted)\n",
    "\n",
    "print(len(\"Pinaki\"))\n",
    "\n",
    "names = [\"Naga\", \"Nilanjan\", \"Swarvanu\", \"Pinaki\"]\n",
    "names.sort(key=len)\n",
    "print(names)\n",
    "\n",
    "#sorted_names = []\n",
    "#for elem in names:\n",
    " #   length = len(elem)\n",
    "    ###if()\n",
    "    #put that name into suitable position into sorted_names = []\n",
    "\n",
    "#names = sorted_names\n",
    "#print(sorted_names)\n",
    "    \n"
   ]
  },
  {
   "cell_type": "code",
   "execution_count": 54,
   "metadata": {},
   "outputs": [],
   "source": [
    "sort_index = lambda str_elem: str_elem[1] "
   ]
  },
  {
   "cell_type": "code",
   "execution_count": 57,
   "metadata": {},
   "outputs": [],
   "source": [
    "names = [\"Cognizant\", \"TCS\", \"IBM\", \"Walmart\", \"MACY\"]\n",
    "# names.sort(key=len)\n",
    "#names.sort(key=lambda str_elem: str_elem[1])\n",
    "#print(names)"
   ]
  },
  {
   "cell_type": "code",
   "execution_count": 58,
   "metadata": {},
   "outputs": [
    {
     "name": "stdout",
     "output_type": "stream",
     "text": [
      "['MACY', 'IBM', 'TCS', 'Walmart', 'Cognizant']\n",
      "['Cognizant', 'TCS', 'IBM', 'Walmart', 'MACY']\n"
     ]
    }
   ],
   "source": [
    "print(sorted(names, key=sort_index))\n",
    "print(names)\n",
    "#print(unsorted)"
   ]
  },
  {
   "cell_type": "code",
   "execution_count": null,
   "metadata": {},
   "outputs": [],
   "source": []
  }
 ],
 "metadata": {
  "kernelspec": {
   "display_name": "Python 3",
   "language": "python",
   "name": "python3"
  },
  "language_info": {
   "codemirror_mode": {
    "name": "ipython",
    "version": 3
   },
   "file_extension": ".py",
   "mimetype": "text/x-python",
   "name": "python",
   "nbconvert_exporter": "python",
   "pygments_lexer": "ipython3",
   "version": "3.7.5"
  }
 },
 "nbformat": 4,
 "nbformat_minor": 2
}
